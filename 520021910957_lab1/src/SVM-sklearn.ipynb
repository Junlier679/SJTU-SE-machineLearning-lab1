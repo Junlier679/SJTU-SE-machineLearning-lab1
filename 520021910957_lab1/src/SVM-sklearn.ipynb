{
 "cells": [
  {
   "cell_type": "code",
   "execution_count": 1,
   "id": "a6fea5c4",
   "metadata": {},
   "outputs": [],
   "source": [
    "import numpy as np  # for handling multi-dimensional array operation\n",
    "import pandas as pd  # for reading data from csv \n",
    "import statsmodels.api as sm  # for finding the p-value \n",
    "from sklearn.preprocessing import MinMaxScaler  # for normalization\n",
    "\n",
    "from sklearn.model_selection import train_test_split as tts # to split our data into train and test samples.\n",
    "#If you want to see how to implement  this split from scratch you can check out my other project Glass Classification using KNN from Scratch in my profile.\n",
    "\n",
    "from sklearn.metrics import accuracy_score # for calculating our accuracy in the end \n",
    "from sklearn.metrics import recall_score\n",
    "from sklearn.metrics import precision_score\n",
    "from sklearn import preprocessing\n",
    "from sklearn.svm import LinearSVC\n",
    "import matplotlib.pyplot as plt\n",
    "import math\n",
    "import time"
   ]
  },
  {
   "cell_type": "code",
   "execution_count": 8,
   "id": "4d6b3acc",
   "metadata": {},
   "outputs": [],
   "source": [
    "dataX1 = pd.read_csv('./data/X_train.csv')\n",
    "dataY1 = pd.read_csv('./data/Y_train.csv')\n",
    "dataXT1 = pd.read_csv('./data/X_test.csv')\n",
    "dataYT1 = pd.read_csv('./data/Y_test.csv')\n",
    "y_map={1:1,0:-1}\n",
    "dataY1['Label']=dataY1['Label'].map(y_map)\n",
    "dataYT1['Label']=dataYT1['Label'].map(y_map)"
   ]
  },
  {
   "cell_type": "code",
   "execution_count": 9,
   "id": "9c773144",
   "metadata": {},
   "outputs": [
    {
     "name": "stderr",
     "output_type": "stream",
     "text": [
      "D:\\Mydownload\\Anaconda3\\lib\\site-packages\\sklearn\\utils\\validation.py:993: DataConversionWarning: A column-vector y was passed when a 1d array was expected. Please change the shape of y to (n_samples, ), for example using ravel().\n",
      "  y = column_or_1d(y, warn=True)\n",
      "D:\\Mydownload\\Anaconda3\\lib\\site-packages\\sklearn\\svm\\_base.py:1206: ConvergenceWarning: Liblinear failed to converge, increase the number of iterations.\n",
      "  warnings.warn(\n"
     ]
    }
   ],
   "source": [
    "linearsvc = LinearSVC(C=1e9)\n",
    "start_time1=time.time()\n",
    "linearsvc.fit(dataX1.to_numpy(), dataY1.to_numpy())\n",
    "end_time1=time.time()\n",
    "w=linearsvc.coef_\n",
    "b=linearsvc.intercept_\n",
    "Py=linearsvc.predict(dataXT1.to_numpy())"
   ]
  },
  {
   "cell_type": "code",
   "execution_count": 10,
   "id": "f71cc679",
   "metadata": {},
   "outputs": [
    {
     "name": "stdout",
     "output_type": "stream",
     "text": [
      "运行时间：0.011077880859375秒\n",
      "accuracy on test dataset: 0.9\n",
      "recall on test dataset: 0.9052631578947369\n",
      "precision on test dataset: 0.8865979381443299\n"
     ]
    }
   ],
   "source": [
    "print(\"运行时间：{}秒\".format(end_time1-start_time1))\n",
    "print(\"accuracy on test dataset: {}\".format(accuracy_score(dataYT1.to_numpy(), Py)))\n",
    "print(\"recall on test dataset: {}\".format(recall_score(dataYT1.to_numpy(), Py)))\n",
    "print(\"precision on test dataset: {}\".format(precision_score(dataYT1.to_numpy(), Py)))"
   ]
  },
  {
   "cell_type": "code",
   "execution_count": 7,
   "id": "376f06cb",
   "metadata": {},
   "outputs": [
    {
     "name": "stdout",
     "output_type": "stream",
     "text": [
      "[-0.47474059 -0.05237772 -0.20849816  1.45827583 -2.28364506 -0.2234089\n",
      "  2.1660482  -1.11828987 -1.61084326 -0.89095354  1.53295283 -1.06357484\n",
      "  0.36616591 -1.31536289 -0.64358646 -0.31205944 -1.14907523 -0.16934619\n",
      " -0.13540805 -0.61030307 -1.72924401  1.48263006  0.2813486  -0.12254911\n",
      "  0.55050212  1.49398042  1.39256284  1.30670781  0.13971605]\n",
      "[-3.54181393]\n"
     ]
    },
    {
     "data": {
      "image/png": "[encoded data removed]",
      "text/plain": [
       "<Figure size 432x288 with 1 Axes>"
      ]
     },
     "metadata": {
      "needs_background": "light"
     },
     "output_type": "display_data"
    }
   ],
   "source": [
    "ww=w[0]\n",
    "print(ww)\n",
    "print(b)\n",
    "ax2=[]\n",
    "ay2=[]\n",
    "for i in range(len(ww)):\n",
    "    ax2.append(i)\n",
    "    ay2.append(ww[i])\n",
    "plt.scatter(ax2,ay2)\n",
    "plt.show()"
   ]
  }
 ],
 "metadata": {
  "kernelspec": {
   "display_name": "Python 3 (ipykernel)",
   "language": "python",
   "name": "python3"
  },
  "language_info": {
   "codemirror_mode": {
    "name": "ipython",
    "version": 3
   },
   "file_extension": ".py",
   "mimetype": "text/x-python",
   "name": "python",
   "nbconvert_exporter": "python",
   "pygments_lexer": "ipython3",
   "version": "3.9.12"
  }
 },
 "nbformat": 4,
 "nbformat_minor": 5
}
