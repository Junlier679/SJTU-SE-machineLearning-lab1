{
 "cells": [
  {
   "cell_type": "code",
   "execution_count": 113,
   "id": "64f715e0",
   "metadata": {},
   "outputs": [],
   "source": [
    "import numpy as np\n",
    "import pandas as pd\n",
    "import statsmodels.api as sm\n",
    "\n",
    "from sklearn.preprocessing import MinMaxScaler  # for normalization\n",
    "\n",
    "from sklearn.model_selection import train_test_split as tts # to split our data into train and test samples.\n",
    "#If you want to see how to implement  this split from scratch you can check out my other project Glass Classification using KNN from Scratch in my profile.\n",
    "\n",
    "from sklearn.metrics import accuracy_score # for calculating our accuracy in the end \n",
    "from sklearn.metrics import recall_score\n",
    "from sklearn.metrics import precision_score\n",
    "import time"
   ]
  },
  {
   "cell_type": "code",
   "execution_count": 116,
   "id": "64c26f74",
   "metadata": {
    "scrolled": true
   },
   "outputs": [],
   "source": [
    "X_train = pd.read_csv(\"./data/X_train.csv\")\n",
    "# X_train.head(5)\n",
    "normalizedTrainX = MinMaxScaler().fit_transform(X_train.values)\n",
    "trainX = pd.DataFrame(normalizedTrainX)\n",
    "# trainX.head(5)"
   ]
  },
  {
   "cell_type": "code",
   "execution_count": 117,
   "id": "7d0868d4",
   "metadata": {},
   "outputs": [],
   "source": [
    "X_test = pd.read_csv(\"./data/X_test.csv\")\n",
    "# X_test.head(5)\n",
    "normalizedTestX = MinMaxScaler().fit_transform(X_test.values)\n",
    "testX = pd.DataFrame(normalizedTestX)\n",
    "# testX.head(5)"
   ]
  },
  {
   "cell_type": "code",
   "execution_count": 107,
   "id": "98c0af9e",
   "metadata": {},
   "outputs": [],
   "source": [
    "Y_train = pd.read_csv(\"./data/Y_train.csv\")\n",
    "Y = Y_train.to_numpy()\n",
    "trainY = np.zeros(len(Y))\n",
    "# change 0 in trainY to -1 \n",
    "for idx in range(len(Y)):\n",
    "    if Y[idx] == 0 :\n",
    "        trainY[idx] = -1\n",
    "    else :\n",
    "        trainY[idx] = 1\n",
    "# print(trainY)"
   ]
  },
  {
   "cell_type": "code",
   "execution_count": 108,
   "id": "8cc2a578",
   "metadata": {},
   "outputs": [],
   "source": [
    "Y_test = pd.read_csv(\"./data/Y_test.csv\")\n",
    "Y = Y_test.to_numpy()\n",
    "testY = np.zeros(len(Y))\n",
    "# change 0 in trainY to -1 \n",
    "for idx in range(len(Y)):\n",
    "    if Y[idx] == 0 :\n",
    "        testY[idx] = -1\n",
    "    else :\n",
    "        testY[idx] = 1\n",
    "# print(testY)"
   ]
  },
  {
   "cell_type": "code",
   "execution_count": 109,
   "id": "4d1b8f57",
   "metadata": {},
   "outputs": [],
   "source": [
    "class SVM:\n",
    "    \n",
    "    def init(self, learning_rate=0.001,lambda_param=0.02,n_iters=800):\n",
    "        self.lr = learning_rate #α\n",
    "        self.lambda_param = lambda_param\n",
    "        self.n_iters = n_iters\n",
    "        self.w = None\n",
    "        self.b = None\n",
    "    \n",
    "    def fit(self,dataX,dataY):\n",
    "        n_samples, n_features = dataX.shape\n",
    "        \n",
    "        self.w = np.zeros(n_features)\n",
    "        self.b = 0\n",
    "        \n",
    "        for _ in range(self.n_iters):\n",
    "            for idx, x_i in enumerate(dataX):\n",
    "                # print(x_i,dataY[idx])\n",
    "                self.update(x_i,dataY[idx])\n",
    "    \n",
    "    def update(self,x,y):\n",
    "        distance = 1-(y*(np.dot(x,self.w)+self.b))\n",
    "        hinge_loss = max(0,distance)\n",
    "        if(hinge_loss == 0):\n",
    "            self.w = self.w-self.lr*(2*self.lambda_param*self.w)\n",
    "        else:\n",
    "            # print(x,\"\\n\",y)\n",
    "            self.w = self.w-self.lr*(2*self.lambda_param*self.w-np.dot(x,y))\n",
    "            self.b = self.b+self.lr*y\n",
    "        \n",
    "    def predict(self,dataX):\n",
    "        eq = np.dot(dataX,self.w)+self.b\n",
    "        return np.sign(eq)"
   ]
  },
  {
   "cell_type": "code",
   "execution_count": 114,
   "id": "83b144fe",
   "metadata": {},
   "outputs": [],
   "source": [
    "clf = SVM()\n",
    "clf.init()\n",
    "start_time = time.time()\n",
    "clf.fit(trainX.to_numpy(),trainY)\n",
    "end_time = time.time()\n",
    "predictedY = clf.predict(testX.to_numpy())"
   ]
  },
  {
   "cell_type": "code",
   "execution_count": 115,
   "id": "9457d2ba",
   "metadata": {},
   "outputs": [
    {
     "name": "stdout",
     "output_type": "stream",
     "text": [
      "fit time: 9.501799583435059\n",
      "accuracy on test dataset: 0.85\n",
      "recall on test dataset: 0.6842105263157895\n",
      "precision on test dataset: 1.0\n"
     ]
    }
   ],
   "source": [
    "print(\"fit time: {}\".format(end_time-start_time))\n",
    "print(\"accuracy on test dataset: {}\".format(accuracy_score(testY, predictedY)))\n",
    "print(\"recall on test dataset: {}\".format(recall_score(testY, predictedY)))\n",
    "print(\"precision on test dataset: {}\".format(precision_score(testY, predictedY)))"
   ]
  }
 ],
 "metadata": {
  "kernelspec": {
   "display_name": "Python 3 (ipykernel)",
   "language": "python",
   "name": "python3"
  },
  "language_info": {
   "codemirror_mode": {
    "name": "ipython",
    "version": 3
   },
   "file_extension": ".py",
   "mimetype": "text/x-python",
   "name": "python",
   "nbconvert_exporter": "python",
   "pygments_lexer": "ipython3",
   "version": "3.9.12"
  }
 },
 "nbformat": 4,
 "nbformat_minor": 5
}
